{
  "nbformat": 4,
  "nbformat_minor": 0,
  "metadata": {
    "colab": {
      "name": "Day-2 Architecture structure basics of GAN.ipynb",
      "provenance": [],
      "authorship_tag": "ABX9TyOCDsEj5emGBEnYhN1g9jjx",
      "include_colab_link": true
    },
    "kernelspec": {
      "name": "python3",
      "display_name": "Python 3"
    },
    "language_info": {
      "name": "python"
    }
  },
  "cells": [
    {
      "cell_type": "markdown",
      "metadata": {
        "id": "view-in-github",
        "colab_type": "text"
      },
      "source": [
        "<a href=\"https://colab.research.google.com/github/Ajay-Sai-Kiran/GANS/blob/main/Day_2_Architecture_structure_basics_of_GAN.ipynb\" target=\"_parent\"><img src=\"https://colab.research.google.com/assets/colab-badge.svg\" alt=\"Open In Colab\"/></a>"
      ]
    },
    {
      "cell_type": "markdown",
      "source": [
        "#Architecture structure basics"
      ],
      "metadata": {
        "id": "wTlrcPkGyKgC"
      }
    },
    {
      "cell_type": "markdown",
      "source": [
        "A generative adversarial network (GAN) has two parts:\n",
        "\n",
        "**The generator** learns to generate plausible data. The generated instances become negative training examples for the discriminator.\n",
        "\n",
        "**The discriminator** learns to distinguish the generator's fake data from real data. The discriminator penalizes the generator for producing implausible results."
      ],
      "metadata": {
        "id": "SiN_lqGNyPE5"
      }
    },
    {
      "cell_type": "markdown",
      "source": [
        "When training begins, the generator produces obviously fake data, and the discriminator quickly learns to tell that it's fake:"
      ],
      "metadata": {
        "id": "jYnf08YJ3xX3"
      }
    },
    {
      "cell_type": "markdown",
      "source": [
        "As training progresses, the generator gets closer to producing output that can fool the discriminator:"
      ],
      "metadata": {
        "id": "42Z30kVK4Bcg"
      }
    },
    {
      "cell_type": "markdown",
      "source": [
        "Finally, if generator training goes well, the discriminator gets worse at telling the difference between real and fake. It starts to classify fake data as real, and its accuracy decreases."
      ],
      "metadata": {
        "id": "0H0X7Cpk4Hyx"
      }
    },
    {
      "cell_type": "markdown",
      "source": [
        "![image.png](data:image/png;base64,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)"
      ],
      "metadata": {
        "id": "vl7OYqbQ4rOH"
      }
    },
    {
      "cell_type": "markdown",
      "source": [
        "Both the generator and the discriminator are neural networks. \n",
        "\n",
        "The generator output is connected directly to the discriminator input. Through backpropagation, the discriminator's classification provides a signal that the generator uses to update its weights."
      ],
      "metadata": {
        "id": "3niNv4q54zDg"
      }
    },
    {
      "cell_type": "markdown",
      "source": [
        "#The Discriminator"
      ],
      "metadata": {
        "id": "k8Iuh5KJ46Ta"
      }
    },
    {
      "cell_type": "markdown",
      "source": [
        "The discriminator in a GAN is simply a classifier. It tries to distinguish real data from the data created by the generator. It could use any network architecture appropriate to the type of data it's classifying."
      ],
      "metadata": {
        "id": "nTTloWLx5BlA"
      }
    },
    {
      "cell_type": "markdown",
      "source": [
        "![image.png](data:image/png;base64,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)"
      ],
      "metadata": {
        "id": "WTsfYwRg5F2q"
      }
    },
    {
      "cell_type": "markdown",
      "source": [
        "Discriminator Training Data\n",
        "The discriminator's training data comes from two sources:\n",
        "\n",
        "**Real data instances**, such as **real pictures of people**. The discriminator uses these instances as positive examples during training.\n",
        "\n",
        "\n",
        "**Fake data instances** **created by the generator**. The discriminator uses these instances as negative examples during training."
      ],
      "metadata": {
        "id": "s4QBxxEa5Hw4"
      }
    },
    {
      "cell_type": "markdown",
      "source": [
        "In the above figure the two \"Sample\" boxes represent these two data sources feeding into the discriminator. \n",
        "\n",
        "During discriminator training the generator does not train. Its weights remain constant while it produces examples for the discriminator to train on."
      ],
      "metadata": {
        "id": "aAbN59FA5Sj2"
      }
    },
    {
      "cell_type": "markdown",
      "source": [
        "#Training the Discriminator"
      ],
      "metadata": {
        "id": "7NWQnQI-5b6w"
      }
    },
    {
      "cell_type": "markdown",
      "source": [
        "The discriminator connects to two loss functions. During discriminator training, the discriminator ignores the generator loss and just uses the discriminator loss. We use the generator loss during generator training."
      ],
      "metadata": {
        "id": "3KyJlAqt5hk5"
      }
    },
    {
      "cell_type": "markdown",
      "source": [
        "During discriminator training:\n",
        "\n",
        "    The discriminator classifies both real data and fake data from the generator.\n",
        "\n",
        "    The discriminator loss penalizes the discriminator for misclassifying a real instance as fake or a fake instance as real.\n",
        "\n",
        "    The discriminator updates its weights through backpropagation from the discriminator loss through the discriminator network."
      ],
      "metadata": {
        "id": "ppaxO-ex5nPR"
      }
    },
    {
      "cell_type": "markdown",
      "source": [
        "#The Generator"
      ],
      "metadata": {
        "id": "AjQVyX9Q5uW4"
      }
    },
    {
      "cell_type": "markdown",
      "source": [
        "The **generator part of a GAN learns to create fake data by incorporating feedback from the discriminator**. It learns to make the discriminator classify its output as real.\n",
        "\n",
        "\n",
        "```\n",
        "\n"
      ],
      "metadata": {
        "id": "Xl5gnB1r6FZH"
      }
    },
    {
      "cell_type": "markdown",
      "source": [
        "Generator training requires tighter integration between the generator and the discriminator than discriminator training requires. The portion of the GAN that trains the generator includes:\n",
        "\n",
        "    random input\n",
        "\n",
        "    generator network, which transforms the random input into a data instance\n",
        "\n",
        "    discriminator network, which classifies the generated data\n",
        "\n",
        "    discriminator output\n",
        "\n",
        "    generator loss, which penalizes the generator for failing to fool the discriminator"
      ],
      "metadata": {
        "id": "82EsPOrs6O9v"
      }
    },
    {
      "cell_type": "markdown",
      "source": [
        "![image.png](data:image/png;base64,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)"
      ],
      "metadata": {
        "id": "CrnhCLFO6Xnn"
      }
    },
    {
      "cell_type": "markdown",
      "source": [
        "#Random Input"
      ],
      "metadata": {
        "id": "hXbf5gvF6joO"
      }
    },
    {
      "cell_type": "markdown",
      "source": [
        "\n",
        "Neural networks need some form of input. Normally we input data that we want to do something with, like an instance that we want to classify or make a prediction about. But what do we use as input for a network that outputs entirely new data instances?\n",
        "\n",
        "In its most basic form, a GAN takes random noise as its input. The generator then transforms this noise into a meaningful output. By introducing noise, we can get the GAN to produce a wide variety of data, sampling from different places in the target distribution"
      ],
      "metadata": {
        "id": "1x2RRwWM6Z45"
      }
    },
    {
      "cell_type": "markdown",
      "source": [
        "#Using the Discriminator to Train the Generator"
      ],
      "metadata": {
        "id": "PNiKHUeJ6K4g"
      }
    },
    {
      "cell_type": "markdown",
      "source": [
        "To train a neural net, we alter the net's weights to reduce the error or loss of its output. In our GAN, however, the generator is not directly connected to the loss that we're trying to affect. The generator feeds into the discriminator net, and the discriminator produces the output we're trying to affect. The generator loss penalizes the generator for producing a sample that the discriminator network classifies as fake."
      ],
      "metadata": {
        "id": "a8B8ra0v6o8f"
      }
    },
    {
      "cell_type": "markdown",
      "source": [
        "This extra chunk of network must be included in backpropagation. Backpropagation adjusts each weight in the right direction by calculating the weight's impact on the output — how the output would change if you changed the weight. But the impact of a generator weight depends on the impact of the discriminator weights it feeds into. So backpropagation starts at the output and flows back through the discriminator into the generator."
      ],
      "metadata": {
        "id": "gtJATXlu6uw3"
      }
    },
    {
      "cell_type": "markdown",
      "source": [
        "At the same time, we don't want the discriminator to change during generator training. Trying to hit a moving target would make a hard problem even harder for the generator."
      ],
      "metadata": {
        "id": "iPurIOat6yQG"
      }
    },
    {
      "cell_type": "markdown",
      "source": [
        "So we train the generator with the following procedure:\n",
        "\n",
        "    Sample random noise.\n",
        "\n",
        "    Produce generator output from sampled random noise.\n",
        "\n",
        "    Get discriminator \"Real\" or \"Fake\" classification for generator output.\n",
        "\n",
        "    Calculate loss from discriminator classification.\n",
        "\n",
        "    Backpropagate through both the discriminator and generator to obtain gradients.\n",
        "\n",
        "    Use gradients to change only the generator weights."
      ],
      "metadata": {
        "id": "JQUC5LD860tS"
      }
    },
    {
      "cell_type": "markdown",
      "source": [
        "#Credits: Google Developers"
      ],
      "metadata": {
        "id": "IeEYId9C7CQ3"
      }
    }
  ]
}